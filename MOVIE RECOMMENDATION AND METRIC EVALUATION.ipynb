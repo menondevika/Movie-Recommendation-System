{
 "cells": [
  {
   "cell_type": "code",
   "execution_count": 2,
   "metadata": {},
   "outputs": [],
   "source": [
    "import pandas as pd\n",
    "from sklearn.neighbors import NearestNeighbors\n",
    "from scipy.sparse import csr_matrix\n",
    "\n",
    "# Load data\n",
    "movies = pd.read_csv('movies.csv')\n",
    "ratings = pd.read_csv('ratings.csv')\n",
    "\n",
    "# Pivot ratings into movie features\n",
    "df_movie_features = ratings.pivot(\n",
    "    index='movieId',\n",
    "    columns='userId',\n",
    "    values='rating'\n",
    ").fillna(0)\n",
    "\n",
    "# Convert dataframe of movie features to scipy sparse matrix\n",
    "mat_movie_features = csr_matrix(df_movie_features.values)\n",
    "\n",
    "# Create model using NearestNeighbors\n",
    "model_knn = NearestNeighbors(metric='cosine', algorithm='brute', n_neighbors=20, n_jobs=-1)\n",
    "model_knn.fit(mat_movie_features)\n",
    "\n",
    "def get_movie_recommendation(movie_name):\n",
    "    n_movies_to_recommend = 10\n",
    "\n",
    "    # Filter movies by movie_name\n",
    "    movie_list = movies[movies['title'].str.contains(movie_name)]\n",
    "\n",
    "    if len(movie_list):\n",
    "        # Get movie index\n",
    "        movie_idx = movie_list.iloc[0]['movieId']\n",
    "        movie_idx = df_movie_features[df_movie_features.index == movie_idx].index[0]\n",
    "\n",
    "        # Get k nearest neighbors\n",
    "        distances, indices = model_knn.kneighbors(df_movie_features.iloc[movie_idx, :].values.reshape(1, -1), n_neighbors=n_movies_to_recommend+1)\n",
    "\n",
    "        # Sort recommended movies by distance\n",
    "        rec_movie_indices = sorted(list(zip(indices.squeeze().tolist(), distances.squeeze().tolist())), key=lambda x: x[1])[:0:-1]\n",
    "\n",
    "        # Create dataframe with recommended movies\n",
    "        recommend_frame = []\n",
    "        for val in rec_movie_indices:\n",
    "            movie_idx = df_movie_features.iloc[val[0]].name\n",
    "            idx = movies[movies['movieId'] == movie_idx].index\n",
    "            recommend_frame.append({'Title':movies.iloc[idx]['title'].values[0],'Distance':val[1]})\n",
    "\n",
    "        df = pd.DataFrame(recommend_frame, index=range(1, n_movies_to_recommend+1))\n",
    "        return df\n",
    "    else:\n",
    "        return \"No movies found. Please check your input\"\n"
   ]
  },
  {
   "cell_type": "code",
   "execution_count": 4,
   "metadata": {},
   "outputs": [
    {
     "data": {
      "text/html": [
       "<div>\n",
       "<style scoped>\n",
       "    .dataframe tbody tr th:only-of-type {\n",
       "        vertical-align: middle;\n",
       "    }\n",
       "\n",
       "    .dataframe tbody tr th {\n",
       "        vertical-align: top;\n",
       "    }\n",
       "\n",
       "    .dataframe thead th {\n",
       "        text-align: right;\n",
       "    }\n",
       "</style>\n",
       "<table border=\"1\" class=\"dataframe\">\n",
       "  <thead>\n",
       "    <tr style=\"text-align: right;\">\n",
       "      <th></th>\n",
       "      <th>Title</th>\n",
       "      <th>Distance</th>\n",
       "    </tr>\n",
       "  </thead>\n",
       "  <tbody>\n",
       "    <tr>\n",
       "      <th>1</th>\n",
       "      <td>Santa Clause, The (1994)</td>\n",
       "      <td>0.502632</td>\n",
       "    </tr>\n",
       "    <tr>\n",
       "      <th>2</th>\n",
       "      <td>Ace Ventura: When Nature Calls (1995)</td>\n",
       "      <td>0.502440</td>\n",
       "    </tr>\n",
       "    <tr>\n",
       "      <th>3</th>\n",
       "      <td>Beauty and the Beast (1991)</td>\n",
       "      <td>0.492542</td>\n",
       "    </tr>\n",
       "    <tr>\n",
       "      <th>4</th>\n",
       "      <td>Aladdin (1992)</td>\n",
       "      <td>0.484380</td>\n",
       "    </tr>\n",
       "    <tr>\n",
       "      <th>5</th>\n",
       "      <td>Nightmare Before Christmas, The (1993)</td>\n",
       "      <td>0.481839</td>\n",
       "    </tr>\n",
       "    <tr>\n",
       "      <th>6</th>\n",
       "      <td>Home Alone (1990)</td>\n",
       "      <td>0.475124</td>\n",
       "    </tr>\n",
       "    <tr>\n",
       "      <th>7</th>\n",
       "      <td>Jurassic Park (1993)</td>\n",
       "      <td>0.461954</td>\n",
       "    </tr>\n",
       "    <tr>\n",
       "      <th>8</th>\n",
       "      <td>Mask, The (1994)</td>\n",
       "      <td>0.455019</td>\n",
       "    </tr>\n",
       "    <tr>\n",
       "      <th>9</th>\n",
       "      <td>Mrs. Doubtfire (1993)</td>\n",
       "      <td>0.450182</td>\n",
       "    </tr>\n",
       "    <tr>\n",
       "      <th>10</th>\n",
       "      <td>Lion King, The (1994)</td>\n",
       "      <td>0.411562</td>\n",
       "    </tr>\n",
       "  </tbody>\n",
       "</table>\n",
       "</div>"
      ],
      "text/plain": [
       "                                     Title  Distance\n",
       "1                 Santa Clause, The (1994)  0.502632\n",
       "2    Ace Ventura: When Nature Calls (1995)  0.502440\n",
       "3              Beauty and the Beast (1991)  0.492542\n",
       "4                           Aladdin (1992)  0.484380\n",
       "5   Nightmare Before Christmas, The (1993)  0.481839\n",
       "6                        Home Alone (1990)  0.475124\n",
       "7                     Jurassic Park (1993)  0.461954\n",
       "8                         Mask, The (1994)  0.455019\n",
       "9                    Mrs. Doubtfire (1993)  0.450182\n",
       "10                   Lion King, The (1994)  0.411562"
      ]
     },
     "execution_count": 4,
     "metadata": {},
     "output_type": "execute_result"
    }
   ],
   "source": [
    " get_movie_recommendation('Toy Story')"
   ]
  },
  {
   "cell_type": "code",
   "execution_count": 16,
   "metadata": {},
   "outputs": [
    {
     "data": {
      "image/png": "[encoded data removed]",
      "text/plain": [
       "<Figure size 432x288 with 1 Axes>"
      ]
     },
     "metadata": {
      "needs_background": "light"
     },
     "output_type": "display_data"
    }
   ],
   "source": [
    "import pandas as pd\n",
    "from sklearn.neighbors import NearestNeighbors\n",
    "from scipy.sparse import csr_matrix\n",
    "import numpy as np\n",
    "import matplotlib\n",
    "matplotlib.use('Qt5Agg')\n",
    "import matplotlib.pyplot as plt\n",
    "\n",
    "# Load data\n",
    "movies = pd.read_csv('movies.csv')\n",
    "ratings = pd.read_csv('ratings.csv')\n",
    "\n",
    "# Pivot ratings into movie features\n",
    "df_movie_features = ratings.pivot(\n",
    "    index='movieId',\n",
    "    columns='userId',\n",
    "    values='rating'\n",
    ").fillna(0)\n",
    "\n",
    "# Convert dataframe of movie features to scipy sparse matrix\n",
    "mat_movie_features = csr_matrix(df_movie_features.values)\n",
    "\n",
    "# Create model using NearestNeighbors\n",
    "model_knn = NearestNeighbors(metric='cosine', algorithm='brute', n_neighbors=20, n_jobs=-1)\n",
    "model_knn.fit(mat_movie_features)\n",
    "\n",
    "# Split the data into training and test sets\n",
    "np.random.seed(42)\n",
    "msk = np.random.rand(len(df_movie_features)) < 0.8\n",
    "train_data = df_movie_features[msk]\n",
    "test_data = df_movie_features[~msk]\n",
    "\n",
    "# Define function to calculate accuracy\n",
    "def calculate_accuracy(model, test_data, n_movies_to_recommend):\n",
    "    total = 0\n",
    "    correct = 0\n",
    "\n",
    "    for i in range(len(test_data)):\n",
    "        # Get movie index\n",
    "        movie_idx = test_data.index[i]\n",
    "\n",
    "        # Get k nearest neighbors\n",
    "        distances, indices = model.kneighbors(test_data.iloc[i, :].values.reshape(1, -1), n_neighbors=n_movies_to_recommend+1)\n",
    "\n",
    "        # Get recommended movie indices\n",
    "        rec_movie_indices = indices.squeeze()[1:]\n",
    "\n",
    "        # Check if recommended movies are in test data\n",
    "        if any(rec_movie_indices == movie_idx):\n",
    "            correct += 1\n",
    "        total += 1\n",
    "\n",
    "    accuracy = correct / total\n",
    "    return accuracy\n",
    "\n",
    "# Define list of number of movies to recommend\n",
    "n_movies_to_recommend_list = [5, 10, 15, 20, 25]\n",
    "\n",
    "# Calculate accuracy for different numbers of movies to recommend\n",
    "accuracy_list = []\n",
    "for n_movies_to_recommend in n_movies_to_recommend_list:\n",
    "    accuracy = calculate_accuracy(model_knn, test_data, n_movies_to_recommend)\n",
    "    accuracy_list.append(accuracy)\n",
    "\n",
    "# Plot accuracy vs. number of movies to recommend\n",
    "plt.plot(n_movies_to_recommend_list, accuracy_list)\n",
    "plt.xlabel('Number of movies to recommend')\n",
    "plt.ylabel('Accuracy')\n",
    "plt.title('Accuracy of movie recommendation system')\n",
    "plt.show()"
   ]
  },
  {
   "cell_type": "code",
   "execution_count": null,
   "metadata": {},
   "outputs": [],
   "source": [
    "import matplotlib.pyplot as plt\n",
    "from sklearn.metrics import confusion_matrix\n",
    "import seaborn as sns\n",
    "# Load test data\n",
    "test_data = pd.read_csv('test_data.csv')\n",
    "\n",
    "# Create a dictionary to store the recommendations for each user\n",
    "recommendations = {}\n",
    "\n",
    "# Loop over each user in the test data\n",
    "for user in test_data['userId'].unique():\n",
    "    # Get the test data for the current user\n",
    "    user_data = test_data[test_data['userId'] == user]\n",
    "    # Loop over each movie in the test data\n",
    "    for movie in user_data['movieId']:\n",
    "        # Get the top 10 recommended movies for the current user\n",
    "        recommended_movies = get_movie_recommendation(movie_name)['Title'].values.tolist()\n",
    "        recommended_movies = recommended_movies[:10]\n",
    "        # Check if the current movie is in the recommended movies list\n",
    "        if movie in recommended_movies:\n",
    "            # If the movie is in the recommended movies list, it is a true positive\n",
    "            if user not in recommendations:\n",
    "                recommendations[user] = {'TP': 1, 'FP': 0, 'TN': 0, 'FN': 0}\n",
    "            else:\n",
    "                recommendations[user]['TP'] += 1\n",
    "        else:\n",
    "            # If the movie is not in the recommended movies list, it is a false negative\n",
    "            if user not in recommendations:\n",
    "                recommendations[user] = {'TP': 0, 'FP': 0, 'TN': 0, 'FN': 1}\n",
    "            else:\n",
    "                recommendations[user]['FN'] += 1\n",
    "    # Loop over the recommended movies for the current user\n",
    "    for movie in recommended_movies:\n",
    "        # Check if the recommended movie is in the test data\n",
    "        if movie in user_data['movieId'].values:\n",
    "            # If the recommended movie is in the test data, it is a true positive\n",
    "            recommendations[user]['TP'] += 1\n",
    "        else:\n",
    "            # If the recommended movie is not in the test data, it is a false positive\n",
    "            recommendations[user]['FP'] += 1\n",
    "\n",
    "# Create a dataframe with the recommendations\n",
    "df_recommendations = pd.DataFrame.from_dict(recommendations, orient='index')\n",
    "# Calculate precision, recall, and F1 score for each user\n",
    "df_recommendations['precision'] = df_recommendations['TP'] / (df_recommendations['TP'] + df_recommendations['FP'])\n",
    "df_recommendations['recall'] = df_recommendations['TP'] / (df_recommendations['TP'] + df_recommendations['FN'])\n",
    "df_recommendations['f1_score'] = 2 * df_recommendations['precision'] * df_recommendations['recall'] / (df_recommendations['precision'] + df_recommendations['recall'])\n",
    "# Calculate the average precision, recall, and F1 score for all users\n",
    "average_precision = df_recommendations['precision'].mean()\n",
    "average_recall = df_recommendations['recall'].mean()\n",
    "average_f1_score = df_recommendations['f1_score'].mean()\n",
    "\n",
    "# Create a confusion matrix\n",
    "confusion_matrix = pd.DataFrame({'Actual Positive': [df_recommendations['TP'].sum(), df_recommendations['FN'].sum()], 'Actual Negative': [df_recommendations['FP'].sum\n"
   ]
  },
  {
   "cell_type": "code",
   "execution_count": 21,
   "metadata": {},
   "outputs": [
    {
     "data": {
      "image/png": "[encoded data removed]",
      "text/plain": [
       "<Figure size 432x288 with 1 Axes>"
      ]
     },
     "metadata": {
      "needs_background": "light"
     },
     "output_type": "display_data"
    }
   ],
   "source": [
    "import matplotlib.pyplot as plt\n",
    "import numpy as np\n",
    "\n",
    "def plot_rmse(y_true, y_pred):\n",
    "    \"\"\"\n",
    "    Plots the RMSE for a set of true values and predicted values.\n",
    "    \"\"\"\n",
    "    y_true = np.array(y_true)\n",
    "    y_pred = np.array(y_pred)\n",
    "    rmse = np.sqrt(np.mean((y_true - y_pred)**2))\n",
    "    plt.plot([0, 5], [rmse, rmse], 'r--')\n",
    "    plt.scatter(y_true, y_pred, alpha=0.5)\n",
    "    plt.xlabel('True Ratings')\n",
    "    plt.ylabel('Predicted Ratings')\n",
    "    plt.title('RMSE = {:.2f}'.format(rmse))\n",
    "    plt.show()\n",
    "\n",
    "# Example usage\n",
    "y_true = [3, 4, 2, 5, 1]\n",
    "y_pred = [2.5, 3.5, 2.5, 4.5, 1.5]\n",
    "plot_rmse(y_true, y_pred)\n"
   ]
  },
  {
   "cell_type": "code",
   "execution_count": 30,
   "metadata": {},
   "outputs": [
    {
     "data": {
      "image/png": "[encoded data removed]",
      "text/plain": [
       "<Figure size 432x288 with 1 Axes>"
      ]
     },
     "metadata": {
      "needs_background": "light"
     },
     "output_type": "display_data"
    }
   ],
   "source": [
    "import matplotlib.pyplot as plt\n",
    "import numpy as np\n",
    "import pandas as pd\n",
    "\n",
    "def precision_at_k(model, df_features, user_ratings, k):\n",
    "    \"\"\"Compute precision at K given a user's movie ratings\"\"\"\n",
    "    movie_indices = df_features.index.values\n",
    "    unrated_movies = np.setdiff1d(movie_indices, user_ratings.index.values)\n",
    "    unrated_features = df_features.loc[unrated_movies]\n",
    "    \n",
    "    # Find k nearest neighbors to user's rated movies\n",
    "    distances, indices = model.kneighbors(user_ratings.values.reshape(1, -1), n_neighbors=k)\n",
    "    neighbor_ratings = df_features.iloc[indices[0], :]\n",
    "\n",
    "    # Compute precision as fraction of recommended movies that were actually rated by user\n",
    "    unrated_index = pd.Index(unrated_movies)\n",
    "    relevant_recommendations = neighbor_ratings.loc[unrated_index.intersection(user_ratings.index)]\n",
    "    precision = len(relevant_recommendations) / k\n",
    "    return precision\n",
    "\n",
    "\n",
    "# Example usage\n",
    "user_ratings = df_movie_features.iloc[0, :]  # Use first row as user's movie ratings\n",
    "ks = [1, 5, 10, 20, 50, 100]  # List of K values to compute precision at\n",
    "precisions = [precision_at_k(model_knn, df_movie_features, user_ratings, k) for k in ks]\n",
    "\n",
    "# Plot precision vs. K\n",
    "plt.plot(ks, precisions)\n",
    "plt.xlabel('K')\n",
    "plt.ylabel('Precision')\n",
    "plt.title('Precision vs. K for Movie Recommendation System')\n",
    "plt.show()"
   ]
  },
  {
   "cell_type": "code",
   "execution_count": 31,
   "metadata": {},
   "outputs": [],
   "source": [
    "def recall(actual, predicted):\n",
    "    \"\"\"\n",
    "    Calculates recall value for the recommendation system.\n",
    "\n",
    "    Args:\n",
    "    actual: list of actual movie ratings\n",
    "    predicted: list of predicted movie ratings\n",
    "\n",
    "    Returns:\n",
    "    recall_value: recall value for the recommendation system\n",
    "    \"\"\"\n",
    "    relevant = 0\n",
    "    total = 0\n",
    "\n",
    "    for i in range(len(actual)):\n",
    "        if actual[i] >= 4.0 and predicted[i] >= 4.0:\n",
    "            relevant += 1\n",
    "        if actual[i] >= 4.0:\n",
    "            total += 1\n",
    "\n",
    "    recall_value = relevant / total\n",
    "    return recall_value\n"
   ]
  },
  {
   "cell_type": "code",
   "execution_count": 41,
   "metadata": {},
   "outputs": [],
   "source": [
    "def get_movie_recommendation(movie_name, actual_ratings):\n",
    "    n_movies_to_recommend = 10\n",
    "\n",
    "    # Filter movies by movie_name\n",
    "    movie_list = movies[movies['title'].str.contains(movie_name)]\n",
    "\n",
    "    if len(movie_list):\n",
    "        # Get movie index\n",
    "        movie_idx = movie_list.iloc[0]['movieId']\n",
    "        movie_idx = df_movie_features[df_movie_features.index == movie_idx].index[0]\n",
    "\n",
    "        # Get k nearest neighbors\n",
    "        distances, indices = model_knn.kneighbors(df_movie_features.iloc[movie_idx, :].values.reshape(1, -1), n_neighbors=n_movies_to_recommend+1)\n",
    "\n",
    "        # Sort recommended movies by distance\n",
    "        rec_movie_indices = sorted(list(zip(indices.squeeze().tolist(), distances.squeeze().tolist())), key=lambda x: x[1])[:0:-1]\n",
    "\n",
    "        # Create dataframe with recommended movies\n",
    "        recommend_frame = []\n",
    "        predicted_ratings = []\n",
    "        for val in rec_movie_indices:\n",
    "            movie_idx = df_movie_features.iloc[val[0]].name\n",
    "            idx = movies[movies['movieId'] == movie_idx].index\n",
    "            recommend_frame.append({'Title':movies.iloc[idx]['title'].values[0],'Distance':val[1]})\n",
    "            predicted_ratings.append(df_movie_features.iloc[val[0], :])\n",
    "\n",
    "        df = pd.DataFrame(recommend_frame, index=range(1, n_movies_to_recommend+1))\n",
    "        recall_value = recall(actual_ratings, predicted_ratings)\n",
    "        return df, recall_value\n",
    "    else:\n",
    "        return \"No movies found. Please check your input\", None\n"
   ]
  },
  {
   "cell_type": "code",
   "execution_count": 43,
   "metadata": {},
   "outputs": [
    {
     "ename": "ValueError",
     "evalue": "The truth value of a Series is ambiguous. Use a.empty, a.bool(), a.item(), a.any() or a.all().",
     "output_type": "error",
     "traceback": [
      "\u001b[1;31m---------------------------------------------------------------------------\u001b[0m",
      "\u001b[1;31mValueError\u001b[0m                                Traceback (most recent call last)",
      "\u001b[1;32m<ipython-input-43-1423be11e0db>\u001b[0m in \u001b[0;36m<module>\u001b[1;34m\u001b[0m\n\u001b[0;32m     12\u001b[0m \u001b[1;32mfor\u001b[0m \u001b[0mn\u001b[0m \u001b[1;32min\u001b[0m \u001b[0mrange\u001b[0m\u001b[1;33m(\u001b[0m\u001b[1;36m1\u001b[0m\u001b[1;33m,\u001b[0m \u001b[1;36m11\u001b[0m\u001b[1;33m)\u001b[0m\u001b[1;33m:\u001b[0m\u001b[1;33m\u001b[0m\u001b[1;33m\u001b[0m\u001b[0m\n\u001b[0;32m     13\u001b[0m     \u001b[1;31m# Get top n recommended movies\u001b[0m\u001b[1;33m\u001b[0m\u001b[1;33m\u001b[0m\u001b[1;33m\u001b[0m\u001b[0m\n\u001b[1;32m---> 14\u001b[1;33m     \u001b[0mrecommended_movies\u001b[0m \u001b[1;33m=\u001b[0m \u001b[0mget_movie_recommendation\u001b[0m\u001b[1;33m(\u001b[0m\u001b[1;34m\"Toy Story\"\u001b[0m\u001b[1;33m,\u001b[0m \u001b[0mactual_ratings\u001b[0m\u001b[1;33m)\u001b[0m\u001b[1;33m[\u001b[0m\u001b[1;34m'Title'\u001b[0m\u001b[1;33m]\u001b[0m\u001b[1;33m.\u001b[0m\u001b[0mvalues\u001b[0m\u001b[1;33m[\u001b[0m\u001b[1;33m:\u001b[0m\u001b[0mn\u001b[0m\u001b[1;33m]\u001b[0m\u001b[1;33m\u001b[0m\u001b[1;33m\u001b[0m\u001b[0m\n\u001b[0m\u001b[0;32m     15\u001b[0m \u001b[1;33m\u001b[0m\u001b[0m\n\u001b[0;32m     16\u001b[0m     \u001b[1;31m# Calculate number of recommended movies that were actually rated\u001b[0m\u001b[1;33m\u001b[0m\u001b[1;33m\u001b[0m\u001b[1;33m\u001b[0m\u001b[0m\n",
      "\u001b[1;32m<ipython-input-41-4ca96e8db5f9>\u001b[0m in \u001b[0;36mget_movie_recommendation\u001b[1;34m(movie_name, actual_ratings)\u001b[0m\n\u001b[0;32m     26\u001b[0m \u001b[1;33m\u001b[0m\u001b[0m\n\u001b[0;32m     27\u001b[0m         \u001b[0mdf\u001b[0m \u001b[1;33m=\u001b[0m \u001b[0mpd\u001b[0m\u001b[1;33m.\u001b[0m\u001b[0mDataFrame\u001b[0m\u001b[1;33m(\u001b[0m\u001b[0mrecommend_frame\u001b[0m\u001b[1;33m,\u001b[0m \u001b[0mindex\u001b[0m\u001b[1;33m=\u001b[0m\u001b[0mrange\u001b[0m\u001b[1;33m(\u001b[0m\u001b[1;36m1\u001b[0m\u001b[1;33m,\u001b[0m \u001b[0mn_movies_to_recommend\u001b[0m\u001b[1;33m+\u001b[0m\u001b[1;36m1\u001b[0m\u001b[1;33m)\u001b[0m\u001b[1;33m)\u001b[0m\u001b[1;33m\u001b[0m\u001b[1;33m\u001b[0m\u001b[0m\n\u001b[1;32m---> 28\u001b[1;33m         \u001b[0mrecall_value\u001b[0m \u001b[1;33m=\u001b[0m \u001b[0mrecall\u001b[0m\u001b[1;33m(\u001b[0m\u001b[0mactual_ratings\u001b[0m\u001b[1;33m,\u001b[0m \u001b[0mpredicted_ratings\u001b[0m\u001b[1;33m)\u001b[0m\u001b[1;33m\u001b[0m\u001b[1;33m\u001b[0m\u001b[0m\n\u001b[0m\u001b[0;32m     29\u001b[0m         \u001b[1;32mreturn\u001b[0m \u001b[0mdf\u001b[0m\u001b[1;33m,\u001b[0m \u001b[0mrecall_value\u001b[0m\u001b[1;33m\u001b[0m\u001b[1;33m\u001b[0m\u001b[0m\n\u001b[0;32m     30\u001b[0m     \u001b[1;32melse\u001b[0m\u001b[1;33m:\u001b[0m\u001b[1;33m\u001b[0m\u001b[1;33m\u001b[0m\u001b[0m\n",
      "\u001b[1;32m<ipython-input-31-31dbd7f0f32e>\u001b[0m in \u001b[0;36mrecall\u001b[1;34m(actual, predicted)\u001b[0m\n\u001b[0;32m     14\u001b[0m \u001b[1;33m\u001b[0m\u001b[0m\n\u001b[0;32m     15\u001b[0m     \u001b[1;32mfor\u001b[0m \u001b[0mi\u001b[0m \u001b[1;32min\u001b[0m \u001b[0mrange\u001b[0m\u001b[1;33m(\u001b[0m\u001b[0mlen\u001b[0m\u001b[1;33m(\u001b[0m\u001b[0mactual\u001b[0m\u001b[1;33m)\u001b[0m\u001b[1;33m)\u001b[0m\u001b[1;33m:\u001b[0m\u001b[1;33m\u001b[0m\u001b[1;33m\u001b[0m\u001b[0m\n\u001b[1;32m---> 16\u001b[1;33m         \u001b[1;32mif\u001b[0m \u001b[0mactual\u001b[0m\u001b[1;33m[\u001b[0m\u001b[0mi\u001b[0m\u001b[1;33m]\u001b[0m \u001b[1;33m>=\u001b[0m \u001b[1;36m4.0\u001b[0m \u001b[1;32mand\u001b[0m \u001b[0mpredicted\u001b[0m\u001b[1;33m[\u001b[0m\u001b[0mi\u001b[0m\u001b[1;33m]\u001b[0m \u001b[1;33m>=\u001b[0m \u001b[1;36m4.0\u001b[0m\u001b[1;33m:\u001b[0m\u001b[1;33m\u001b[0m\u001b[1;33m\u001b[0m\u001b[0m\n\u001b[0m\u001b[0;32m     17\u001b[0m             \u001b[0mrelevant\u001b[0m \u001b[1;33m+=\u001b[0m \u001b[1;36m1\u001b[0m\u001b[1;33m\u001b[0m\u001b[1;33m\u001b[0m\u001b[0m\n\u001b[0;32m     18\u001b[0m         \u001b[1;32mif\u001b[0m \u001b[0mactual\u001b[0m\u001b[1;33m[\u001b[0m\u001b[0mi\u001b[0m\u001b[1;33m]\u001b[0m \u001b[1;33m>=\u001b[0m \u001b[1;36m4.0\u001b[0m\u001b[1;33m:\u001b[0m\u001b[1;33m\u001b[0m\u001b[1;33m\u001b[0m\u001b[0m\n",
      "\u001b[1;32mD:\\Program Files\\anaconda\\lib\\site-packages\\pandas\\core\\generic.py\u001b[0m in \u001b[0;36m__nonzero__\u001b[1;34m(self)\u001b[0m\n\u001b[0;32m   1476\u001b[0m \u001b[1;33m\u001b[0m\u001b[0m\n\u001b[0;32m   1477\u001b[0m     \u001b[1;32mdef\u001b[0m \u001b[0m__nonzero__\u001b[0m\u001b[1;33m(\u001b[0m\u001b[0mself\u001b[0m\u001b[1;33m)\u001b[0m\u001b[1;33m:\u001b[0m\u001b[1;33m\u001b[0m\u001b[1;33m\u001b[0m\u001b[0m\n\u001b[1;32m-> 1478\u001b[1;33m         raise ValueError(\n\u001b[0m\u001b[0;32m   1479\u001b[0m             \u001b[1;34mf\"The truth value of a {type(self).__name__} is ambiguous. \"\u001b[0m\u001b[1;33m\u001b[0m\u001b[1;33m\u001b[0m\u001b[0m\n\u001b[0;32m   1480\u001b[0m             \u001b[1;34m\"Use a.empty, a.bool(), a.item(), a.any() or a.all().\"\u001b[0m\u001b[1;33m\u001b[0m\u001b[1;33m\u001b[0m\u001b[0m\n",
      "\u001b[1;31mValueError\u001b[0m: The truth value of a Series is ambiguous. Use a.empty, a.bool(), a.item(), a.any() or a.all()."
     ]
    }
   ],
   "source": []
  },
  {
   "cell_type": "code",
   "execution_count": 44,
   "metadata": {},
   "outputs": [
    {
     "ename": "NameError",
     "evalue": "name 'model' is not defined",
     "output_type": "error",
     "traceback": [
      "\u001b[1;31m---------------------------------------------------------------------------\u001b[0m",
      "\u001b[1;31mNameError\u001b[0m                                 Traceback (most recent call last)",
      "\u001b[1;32m<ipython-input-44-d96ea48a017a>\u001b[0m in \u001b[0;36m<module>\u001b[1;34m\u001b[0m\n\u001b[0;32m      4\u001b[0m \u001b[1;33m\u001b[0m\u001b[0m\n\u001b[0;32m      5\u001b[0m \u001b[1;31m# Get predicted and true labels\u001b[0m\u001b[1;33m\u001b[0m\u001b[1;33m\u001b[0m\u001b[1;33m\u001b[0m\u001b[0m\n\u001b[1;32m----> 6\u001b[1;33m \u001b[0my_pred\u001b[0m \u001b[1;33m=\u001b[0m \u001b[0mmodel\u001b[0m\u001b[1;33m.\u001b[0m\u001b[0mpredict\u001b[0m\u001b[1;33m(\u001b[0m\u001b[0mX_test\u001b[0m\u001b[1;33m)\u001b[0m\u001b[1;33m\u001b[0m\u001b[1;33m\u001b[0m\u001b[0m\n\u001b[0m\u001b[0;32m      7\u001b[0m \u001b[0my_true\u001b[0m \u001b[1;33m=\u001b[0m \u001b[0my_test\u001b[0m\u001b[1;33m\u001b[0m\u001b[1;33m\u001b[0m\u001b[0m\n\u001b[0;32m      8\u001b[0m \u001b[1;33m\u001b[0m\u001b[0m\n",
      "\u001b[1;31mNameError\u001b[0m: name 'model' is not defined"
     ]
    }
   ],
   "source": [
    "import numpy as np\n",
    "import matplotlib.pyplot as plt\n",
    "from sklearn.metrics import precision_recall_curve\n",
    "\n",
    "# Get predicted and true labels\n",
    "y_pred = model.predict(X_test)\n",
    "y_true = y_test\n",
    "\n",
    "# Compute precision and recall for different thresholds\n",
    "precision, recall, thresholds = precision_recall_curve(y_true, y_pred)\n",
    "\n",
    "# Plot recall vs. number of recommendations\n",
    "n_recommendations = np.arange(1, len(recall) + 1)\n",
    "plt.plot(n_recommendations, recall)\n",
    "plt.xlabel('Number of recommendations')\n",
    "plt.ylabel('Recall')\n",
    "plt.show()\n"
   ]
  },
  {
   "cell_type": "code",
   "execution_count": 46,
   "metadata": {},
   "outputs": [
    {
     "data": {
      "image/png": "[encoded data removed]",
      "text/plain": [
       "<Figure size 432x288 with 1 Axes>"
      ]
     },
     "metadata": {
      "needs_background": "light"
     },
     "output_type": "display_data"
    }
   ],
   "source": [
    "import matplotlib.pyplot as plt\n",
    "\n",
    "# recall values for different algorithms\n",
    "algo1_recall = [0.2, 0.3, 0.4, 0.5]\n",
    "algo2_recall = [0.1, 0.2, 0.3, 0.4]\n",
    "\n",
    "# plot recall values\n",
    "plt.plot([1, 2, 3, 4], algo1_recall, label='Content_based')\n",
    "plt.plot([1, 2, 3, 4], algo2_recall, label='Collaborative')\n",
    "\n",
    "# add labels and legend\n",
    "plt.xlabel('Number of recommendations')\n",
    "plt.ylabel('Recall')\n",
    "plt.legend()\n",
    "\n",
    "# display plot\n",
    "plt.show()"
   ]
  },
  {
   "cell_type": "code",
   "execution_count": 48,
   "metadata": {},
   "outputs": [],
   "source": [
    "import pandas as pd\n",
    "import numpy as np\n",
    "from sklearn.neighbors import NearestNeighbors\n",
    "from scipy.sparse import csr_matrix\n",
    "from sklearn.model_selection import train_test_split\n",
    "import matplotlib.pyplot as plt"
   ]
  },
  {
   "cell_type": "code",
   "execution_count": 49,
   "metadata": {},
   "outputs": [],
   "source": [
    "movies = pd.read_csv('movies.csv')\n",
    "ratings = pd.read_csv('ratings.csv')"
   ]
  },
  {
   "cell_type": "code",
   "execution_count": 50,
   "metadata": {},
   "outputs": [],
   "source": [
    "df_movie_features = ratings.pivot(\n",
    "index='movieId',\n",
    "columns='userId',\n",
    "values='rating'\n",
    ").fillna(0)"
   ]
  },
  {
   "cell_type": "code",
   "execution_count": 51,
   "metadata": {},
   "outputs": [],
   "source": [
    "mat_movie_features = csr_matrix(df_movie_features.values)"
   ]
  },
  {
   "cell_type": "code",
   "execution_count": 52,
   "metadata": {},
   "outputs": [
    {
     "data": {
      "text/plain": [
       "NearestNeighbors(algorithm='brute', metric='cosine', n_jobs=-1, n_neighbors=20)"
      ]
     },
     "execution_count": 52,
     "metadata": {},
     "output_type": "execute_result"
    }
   ],
   "source": [
    "model_knn = NearestNeighbors(metric='cosine', algorithm='brute', n_neighbors=20, n_jobs=-1)\n",
    "model_knn.fit(mat_movie_features)"
   ]
  },
  {
   "cell_type": "code",
   "execution_count": 54,
   "metadata": {},
   "outputs": [
    {
     "ename": "IndentationError",
     "evalue": "expected an indented block (<ipython-input-54-41be1b5a0bfe>, line 2)",
     "output_type": "error",
     "traceback": [
      "\u001b[1;36m  File \u001b[1;32m\"<ipython-input-54-41be1b5a0bfe>\"\u001b[1;36m, line \u001b[1;32m2\u001b[0m\n\u001b[1;33m    n_movies_to_recommend = 10\u001b[0m\n\u001b[1;37m    ^\u001b[0m\n\u001b[1;31mIndentationError\u001b[0m\u001b[1;31m:\u001b[0m expected an indented block\n"
     ]
    }
   ],
   "source": []
  },
  {
   "cell_type": "code",
   "execution_count": null,
   "metadata": {},
   "outputs": [],
   "source": []
  }
 ],
 "metadata": {
  "kernelspec": {
   "display_name": "Python 3",
   "language": "python",
   "name": "python3"
  },
  "language_info": {
   "codemirror_mode": {
    "name": "ipython",
    "version": 3
   },
   "file_extension": ".py",
   "mimetype": "text/x-python",
   "name": "python",
   "nbconvert_exporter": "python",
   "pygments_lexer": "ipython3",
   "version": "3.8.3"
  }
 },
 "nbformat": 4,
 "nbformat_minor": 4
}
