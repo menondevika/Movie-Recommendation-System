{
 "cells": [
  {
   "cell_type": "code",
   "execution_count": 1,
   "metadata": {},
   "outputs": [
    {
     "data": {
      "image/png": "[encoded data removed]",
      "text/plain": [
       "<Figure size 432x288 with 2 Axes>"
      ]
     },
     "metadata": {
      "needs_background": "light"
     },
     "output_type": "display_data"
    }
   ],
   "source": [
    "import pandas as pd\n",
    "import numpy as np\n",
    "from sklearn.metrics.pairwise import cosine_similarity\n",
    "from sklearn.model_selection import train_test_split\n",
    "from sklearn.svm import SVC\n",
    "from sklearn.metrics import accuracy_score, confusion_matrix\n",
    "import matplotlib.pyplot as plt\n",
    "\n",
    "movies_df = pd.read_csv('movies.csv')\n",
    "ratings_df = pd.read_csv('ratings.csv')\n",
    "\n",
    "movies_df['year'] = movies_df.title.str.extract('(\\(\\d\\d\\d\\d\\))', expand=False)\n",
    "movies_df['year'] = movies_df.year.str.extract('(\\d\\d\\d\\d)', expand=False)\n",
    "movies_df['title'] = movies_df.title.str.replace('(\\(\\d\\d\\d\\d\\))', '')\n",
    "movies_df['title'] = movies_df['title'].apply(lambda x: x.strip())\n",
    "\n",
    "ratings_df.drop('timestamp', axis=1, inplace=True)\n",
    "\n",
    "movie_ratings_df = pd.merge(movies_df, ratings_df, on='movieId')\n",
    "\n",
    "ratings_pivot = movie_ratings_df.pivot_table(index=['userId'], columns=['title'], values='rating')\n",
    "ratings_pivot.fillna(0, inplace=True)\n",
    "ratings_matrix = np.array(ratings_pivot)\n",
    "\n",
    "genres = movies_df['genres'].str.split('|')\n",
    "genres = genres.apply(pd.Series).stack().reset_index(drop=True)\n",
    "genres = pd.DataFrame({'genre': genres})\n",
    "genres_onehot = pd.get_dummies(genres, columns=['genre'])\n",
    "genre_matrix = genres_onehot.groupby(level=0).sum().values\n",
    "content_sim = cosine_similarity(genre_matrix)\n",
    "\n",
    "train, test = train_test_split(ratings_matrix, test_size=0.2)\n",
    "\n",
    "user_similarity = cosine_similarity(train)\n",
    "mean_user_rating = train.mean(axis=1)\n",
    "ratings_diff = (train - mean_user_rating[:, np.newaxis])\n",
    "user_pred = mean_user_rating[:, np.newaxis] + user_similarity.dot(ratings_diff) / np.array([np.abs(user_similarity).sum(axis=1)]).T\n",
    "\n",
    "X_train = []\n",
    "y_train = []\n",
    "\n",
    "for i in range(train.shape[0]):\n",
    "    for j in range(train.shape[1]):\n",
    "        if train[i, j] > 0:\n",
    "            X_train.append([user_pred[i, j], content_sim[j].mean()])\n",
    "            y_train.append(1 if train[i, j] >= 4 else 0)\n",
    "\n",
    "X_test = []\n",
    "y_test = []\n",
    "\n",
    "for i in range(test.shape[0]):\n",
    "    for j in range(test.shape[1]):\n",
    "        if test[i, j] > 0:\n",
    "            X_test.append([user_pred[i, j], content_sim[j].mean()])\n",
    "            y_test.append(1 if test[i, j] >= 4 else 0)\n",
    "\n",
    "svm = SVC()\n",
    "svm.fit(X_train, y_train)\n",
    "y_pred = svm.predict(X_test)\n",
    "\n",
    "conf_mat = confusion_matrix(y_test, y_pred)\n",
    "plt.imshow(conf_mat, cmap='binary', interpolation='None')\n",
    "plt.colorbar()\n",
    "plt.xticks([0, 1], ['Dislike', 'Like'])\n",
    "plt.yticks([0, 1], ['Dislike', 'Like'])\n",
    "plt.xlabel('Predicted')\n",
    "plt.ylabel('Actual')\n",
    "plt.show()"
   ]
  },
  {
   "cell_type": "code",
   "execution_count": null,
   "metadata": {},
   "outputs": [],
   "source": []
  }
 ],
 "metadata": {
  "kernelspec": {
   "display_name": "Python 3",
   "language": "python",
   "name": "python3"
  },
  "language_info": {
   "codemirror_mode": {
    "name": "ipython",
    "version": 3
   },
   "file_extension": ".py",
   "mimetype": "text/x-python",
   "name": "python",
   "nbconvert_exporter": "python",
   "pygments_lexer": "ipython3",
   "version": "3.8.3"
  }
 },
 "nbformat": 4,
 "nbformat_minor": 4
}
